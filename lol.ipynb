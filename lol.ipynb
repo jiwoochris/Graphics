{
 "cells": [
  {
   "cell_type": "code",
   "execution_count": 1,
   "metadata": {},
   "outputs": [
    {
     "name": "stdout",
     "output_type": "stream",
     "text": [
      "Collecting pandas\n",
      "  Downloading pandas-2.1.4-cp312-cp312-manylinux_2_17_x86_64.manylinux2014_x86_64.whl.metadata (18 kB)\n",
      "Collecting numpy<2,>=1.26.0 (from pandas)\n",
      "  Downloading numpy-1.26.3-cp312-cp312-manylinux_2_17_x86_64.manylinux2014_x86_64.whl.metadata (61 kB)\n",
      "\u001b[2K     \u001b[90m━━━━━━━━━━━━━━━━━━━━━━━━━━━━━━━━━━━━━━━━\u001b[0m \u001b[32m61.2/61.2 kB\u001b[0m \u001b[31m3.0 MB/s\u001b[0m eta \u001b[36m0:00:00\u001b[0m\n",
      "\u001b[?25hRequirement already satisfied: python-dateutil>=2.8.2 in /home/jiwoochris/anaconda3/envs/lol/lib/python3.12/site-packages (from pandas) (2.8.2)\n",
      "Collecting pytz>=2020.1 (from pandas)\n",
      "  Using cached pytz-2023.3.post1-py2.py3-none-any.whl.metadata (22 kB)\n",
      "Collecting tzdata>=2022.1 (from pandas)\n",
      "  Using cached tzdata-2023.4-py2.py3-none-any.whl.metadata (1.4 kB)\n",
      "Requirement already satisfied: six>=1.5 in /home/jiwoochris/anaconda3/envs/lol/lib/python3.12/site-packages (from python-dateutil>=2.8.2->pandas) (1.16.0)\n",
      "Downloading pandas-2.1.4-cp312-cp312-manylinux_2_17_x86_64.manylinux2014_x86_64.whl (11.7 MB)\n",
      "\u001b[2K   \u001b[90m━━━━━━━━━━━━━━━━━━━━━━━━━━━━━━━━━━━━━━━━\u001b[0m \u001b[32m11.7/11.7 MB\u001b[0m \u001b[31m6.6 MB/s\u001b[0m eta \u001b[36m0:00:00\u001b[0m00:01\u001b[0m00:01\u001b[0m\n",
      "\u001b[?25hDownloading numpy-1.26.3-cp312-cp312-manylinux_2_17_x86_64.manylinux2014_x86_64.whl (18.0 MB)\n",
      "\u001b[2K   \u001b[90m━━━━━━━━━━━━━━━━━━━━━━━━━━━━━━━━━━━━━━━━\u001b[0m \u001b[32m18.0/18.0 MB\u001b[0m \u001b[31m8.1 MB/s\u001b[0m eta \u001b[36m0:00:00\u001b[0m00:01\u001b[0m00:01\u001b[0m\n",
      "\u001b[?25hDownloading pytz-2023.3.post1-py2.py3-none-any.whl (502 kB)\n",
      "\u001b[2K   \u001b[90m━━━━━━━━━━━━━━━━━━━━━━━━━━━━━━━━━━━━━━━━\u001b[0m \u001b[32m502.5/502.5 kB\u001b[0m \u001b[31m7.1 MB/s\u001b[0m eta \u001b[36m0:00:00\u001b[0m00:01\u001b[0m:00:01\u001b[0m\n",
      "\u001b[?25hDownloading tzdata-2023.4-py2.py3-none-any.whl (346 kB)\n",
      "\u001b[2K   \u001b[90m━━━━━━━━━━━━━━━━━━━━━━━━━━━━━━━━━━━━━━━━\u001b[0m \u001b[32m346.6/346.6 kB\u001b[0m \u001b[31m4.6 MB/s\u001b[0m eta \u001b[36m0:00:00\u001b[0m00:01\u001b[0m00:01\u001b[0m\n",
      "\u001b[?25hInstalling collected packages: pytz, tzdata, numpy, pandas\n",
      "Successfully installed numpy-1.26.3 pandas-2.1.4 pytz-2023.3.post1 tzdata-2023.4\n"
     ]
    },
    {
     "data": {
      "text/html": [
       "<div>\n",
       "<style scoped>\n",
       "    .dataframe tbody tr th:only-of-type {\n",
       "        vertical-align: middle;\n",
       "    }\n",
       "\n",
       "    .dataframe tbody tr th {\n",
       "        vertical-align: top;\n",
       "    }\n",
       "\n",
       "    .dataframe thead th {\n",
       "        text-align: right;\n",
       "    }\n",
       "</style>\n",
       "<table border=\"1\" class=\"dataframe\">\n",
       "  <thead>\n",
       "    <tr style=\"text-align: right;\">\n",
       "      <th></th>\n",
       "      <th>id</th>\n",
       "      <th>matchid</th>\n",
       "      <th>player</th>\n",
       "      <th>championid</th>\n",
       "      <th>ss1</th>\n",
       "      <th>ss2</th>\n",
       "      <th>role</th>\n",
       "      <th>position</th>\n",
       "    </tr>\n",
       "  </thead>\n",
       "  <tbody>\n",
       "    <tr>\n",
       "      <th>0</th>\n",
       "      <td>9</td>\n",
       "      <td>10</td>\n",
       "      <td>1</td>\n",
       "      <td>19</td>\n",
       "      <td>4</td>\n",
       "      <td>11</td>\n",
       "      <td>NONE</td>\n",
       "      <td>JUNGLE</td>\n",
       "    </tr>\n",
       "    <tr>\n",
       "      <th>1</th>\n",
       "      <td>10</td>\n",
       "      <td>10</td>\n",
       "      <td>2</td>\n",
       "      <td>267</td>\n",
       "      <td>3</td>\n",
       "      <td>4</td>\n",
       "      <td>DUO_SUPPORT</td>\n",
       "      <td>BOT</td>\n",
       "    </tr>\n",
       "    <tr>\n",
       "      <th>2</th>\n",
       "      <td>11</td>\n",
       "      <td>10</td>\n",
       "      <td>3</td>\n",
       "      <td>119</td>\n",
       "      <td>7</td>\n",
       "      <td>4</td>\n",
       "      <td>DUO_CARRY</td>\n",
       "      <td>BOT</td>\n",
       "    </tr>\n",
       "    <tr>\n",
       "      <th>3</th>\n",
       "      <td>12</td>\n",
       "      <td>10</td>\n",
       "      <td>4</td>\n",
       "      <td>114</td>\n",
       "      <td>12</td>\n",
       "      <td>4</td>\n",
       "      <td>SOLO</td>\n",
       "      <td>TOP</td>\n",
       "    </tr>\n",
       "    <tr>\n",
       "      <th>4</th>\n",
       "      <td>13</td>\n",
       "      <td>10</td>\n",
       "      <td>5</td>\n",
       "      <td>112</td>\n",
       "      <td>4</td>\n",
       "      <td>3</td>\n",
       "      <td>SOLO</td>\n",
       "      <td>MID</td>\n",
       "    </tr>\n",
       "  </tbody>\n",
       "</table>\n",
       "</div>"
      ],
      "text/plain": [
       "   id  matchid  player  championid  ss1  ss2         role position\n",
       "0   9       10       1          19    4   11         NONE   JUNGLE\n",
       "1  10       10       2         267    3    4  DUO_SUPPORT      BOT\n",
       "2  11       10       3         119    7    4    DUO_CARRY      BOT\n",
       "3  12       10       4         114   12    4         SOLO      TOP\n",
       "4  13       10       5         112    4    3         SOLO      MID"
      ]
     },
     "execution_count": 1,
     "metadata": {},
     "output_type": "execute_result"
    }
   ],
   "source": [
    "!pip install pandas\n",
    "\n",
    "import pandas as pd\n",
    "\n",
    "# Load the data from the provided CSV file\n",
    "file_path = 'data/participants.csv'\n",
    "data = pd.read_csv(file_path)\n",
    "\n",
    "# Display the first few rows of the dataset to understand its structure\n",
    "data.head()\n"
   ]
  },
  {
   "cell_type": "code",
   "execution_count": 2,
   "metadata": {},
   "outputs": [
    {
     "data": {
      "text/plain": [
       "(54.57356692758869, 42.617850990994924)"
      ]
     },
     "execution_count": 2,
     "metadata": {},
     "output_type": "execute_result"
    }
   ],
   "source": [
    "# Analyzing the distribution of 'ss1' and 'ss2' columns where their values are 4\n",
    "\n",
    "# Counting occurrences of 'ss1' and 'ss2' being 4\n",
    "ss1_count = (data['ss1'] == 4).sum()\n",
    "ss2_count = (data['ss2'] == 4).sum()\n",
    "\n",
    "# Total number of entries\n",
    "total_entries = len(data)\n",
    "\n",
    "# Calculating the distribution (percentage) of ss1 and ss2 being 4\n",
    "ss1_distribution = (ss1_count / total_entries) * 100\n",
    "ss2_distribution = (ss2_count / total_entries) * 100\n",
    "\n",
    "ss1_distribution, ss2_distribution"
   ]
  },
  {
   "cell_type": "code",
   "execution_count": 3,
   "metadata": {},
   "outputs": [
    {
     "name": "stderr",
     "output_type": "stream",
     "text": [
      "/tmp/ipykernel_28967/1730649053.py:6: DtypeWarning: Columns (52) have mixed types. Specify dtype option on import or set low_memory=False.\n",
      "  stats2 = pd.read_csv(file_path_stats2)\n"
     ]
    },
    {
     "data": {
      "text/plain": [
       "(   id  win  item1  item2  item3  item4  item5  item6  trinket  kills  ...  \\\n",
       " 0   9    0   3748   2003   3111   3053   1419   1042     3340      6  ...   \n",
       " 1  10    0   2301   3111   3190   3107      0      0     3364      0  ...   \n",
       " 2  11    0   1055   3072   3006   3031   3046   1036     3340      7  ...   \n",
       " 3  12    0   1029   3078   3156   1001   3053      0     3340      5  ...   \n",
       " 4  13    0   3020   1058   3198   3102   1052   1026     3340      2  ...   \n",
       " \n",
       "    neutralminionskilled  ownjunglekills  enemyjunglekills  totcctimedealt  \\\n",
       " 0                    69              42                27             610   \n",
       " 1                     1               1                 0             211   \n",
       " 2                     3               1                 2             182   \n",
       " 3                     6               6                 0             106   \n",
       " 4                     4               3                 1             159   \n",
       " \n",
       "    champlvl  pinksbought  wardsbought  wardsplaced  wardskilled  firstblood  \n",
       " 0        13            0            0           10            0           0  \n",
       " 1        14            1            0           17            3           0  \n",
       " 2        14            1            0           13            5           0  \n",
       " 3        15            0            0            3            0           0  \n",
       " 4        15            0            0           10            0           0  \n",
       " \n",
       " [5 rows x 56 columns],\n",
       "         id  win  item1  item2  item3  item4  item5  item6  trinket  kills  \\\n",
       " 0  1028382    0   1056   3001   1052   3020   1058   1026     3340      7   \n",
       " 1  1028383    0   1041   2003      0      0      0      0     3340      0   \n",
       " 2  1028384    0   1036   2010      0      0      0      0     3340      0   \n",
       " 3  1028385    0   1055   2010      0      0      0      0     3340      0   \n",
       " 4  1028386    0   2033      0      0      0      0      0     3340      0   \n",
       " \n",
       "    ...  neutralminionskilled  ownjunglekills  enemyjunglekills  \\\n",
       " 0  ...                     0               0                 0   \n",
       " 1  ...                    11              11                 0   \n",
       " 2  ...                     0               0                 0   \n",
       " 3  ...                     0               0                 0   \n",
       " 4  ...                     0               0                 0   \n",
       " \n",
       "    totcctimedealt  champlvl  pinksbought  wardsbought  wardsplaced  \\\n",
       " 0              50        12            0            0            6   \n",
       " 1             114         3            0            0            0   \n",
       " 2               0         1            0            0            0   \n",
       " 3               0         2            0            0            0   \n",
       " 4               0         3            0            0            0   \n",
       " \n",
       "    wardskilled  firstblood  \n",
       " 0            0           0  \n",
       " 1            0           0  \n",
       " 2            0           0  \n",
       " 3            0           0  \n",
       " 4            0           0  \n",
       " \n",
       " [5 rows x 56 columns])"
      ]
     },
     "execution_count": 3,
     "metadata": {},
     "output_type": "execute_result"
    }
   ],
   "source": [
    "# Load the additional CSV files for merging\n",
    "file_path_stats1 = 'data/stats1.csv'\n",
    "file_path_stats2 = 'data/stats2.csv'\n",
    "\n",
    "stats1 = pd.read_csv(file_path_stats1)\n",
    "stats2 = pd.read_csv(file_path_stats2)\n",
    "\n",
    "# Display the first few rows of each dataset to understand their structure\n",
    "stats1.head(), stats2.head()"
   ]
  },
  {
   "cell_type": "code",
   "execution_count": 4,
   "metadata": {},
   "outputs": [
    {
     "data": {
      "text/plain": [
       "(   id  win  item1  item2  item3  item4  item5  item6  trinket  kills  ...  \\\n",
       " 0   9    0   3748   2003   3111   3053   1419   1042     3340      6  ...   \n",
       " 1  10    0   2301   3111   3190   3107      0      0     3364      0  ...   \n",
       " 2  11    0   1055   3072   3006   3031   3046   1036     3340      7  ...   \n",
       " 3  12    0   1029   3078   3156   1001   3053      0     3340      5  ...   \n",
       " 4  13    0   3020   1058   3198   3102   1052   1026     3340      2  ...   \n",
       " \n",
       "    neutralminionskilled  ownjunglekills  enemyjunglekills  totcctimedealt  \\\n",
       " 0                    69              42                27             610   \n",
       " 1                     1               1                 0             211   \n",
       " 2                     3               1                 2             182   \n",
       " 3                     6               6                 0             106   \n",
       " 4                     4               3                 1             159   \n",
       " \n",
       "    champlvl  pinksbought  wardsbought  wardsplaced  wardskilled  firstblood  \n",
       " 0        13            0            0           10            0           0  \n",
       " 1        14            1            0           17            3           0  \n",
       " 2        14            1            0           13            5           0  \n",
       " 3        15            0            0            3            0           0  \n",
       " 4        15            0            0           10            0           0  \n",
       " \n",
       " [5 rows x 56 columns],\n",
       "               id  win  item1  item2  item3  item4  item5  item6  trinket  \\\n",
       " 1834512  1865600    0   3035   1053   3031   1304   3102   3046     3363   \n",
       " 1834513  1865601    0   3089   3285   3157   1314   1052      0     3340   \n",
       " 1834514  1865602    0   1329   3190   3069   3025   1011   3082     3340   \n",
       " 1834515  1865603    0   3074   3071   3707   1033   1036      0     3340   \n",
       " 1834516  1865604    0   3155   3074   3153   3110   1319   1037     3340   \n",
       " \n",
       "          kills  ...  neutralminionskilled  ownjunglekills  enemyjunglekills  \\\n",
       " 1834512     11  ...                    27              20                 7   \n",
       " 1834513     11  ...                     3               3                 0   \n",
       " 1834514      4  ...                     0               0                 0   \n",
       " 1834515      2  ...                    47              40                 7   \n",
       " 1834516      7  ...                     5               4                 1   \n",
       " \n",
       "          totcctimedealt  champlvl  pinksbought  wardsbought  wardsplaced  \\\n",
       " 1834512             127        18            3           \\N           13   \n",
       " 1834513             128        18            0           \\N           13   \n",
       " 1834514             304        17            0           \\N            5   \n",
       " 1834515             101        15            0           \\N            8   \n",
       " 1834516             654        18            0           \\N           12   \n",
       " \n",
       "          wardskilled  firstblood  \n",
       " 1834512            1           0  \n",
       " 1834513            0           0  \n",
       " 1834514            0           0  \n",
       " 1834515            1           0  \n",
       " 1834516            1           0  \n",
       " \n",
       " [5 rows x 56 columns])"
      ]
     },
     "execution_count": 4,
     "metadata": {},
     "output_type": "execute_result"
    }
   ],
   "source": [
    "# Since both files have the same columns, we can simply concatenate them\n",
    "merged_data = pd.concat([stats1, stats2], ignore_index=True)\n",
    "\n",
    "# Display the first few rows of the merged dataset to verify the concatenation\n",
    "merged_data.head(), merged_data.tail()\n"
   ]
  },
  {
   "cell_type": "code",
   "execution_count": 5,
   "metadata": {},
   "outputs": [
    {
     "data": {
      "text/plain": [
       "(0.5003111387678905, 0.4996725639267771)"
      ]
     },
     "execution_count": 5,
     "metadata": {},
     "output_type": "execute_result"
    }
   ],
   "source": [
    "# Filtering players with ss1 equal to 4 and ss2 equal to 4\n",
    "ss1_players = data[data['ss1'] == 4]\n",
    "ss2_players = data[data['ss2'] == 4]\n",
    "\n",
    "# Merging the filtered data with the stats to get the win/loss record\n",
    "ss1_stats = pd.merge(ss1_players, merged_data[['id', 'win']], on='id')\n",
    "ss2_stats = pd.merge(ss2_players, merged_data[['id', 'win']], on='id')\n",
    "\n",
    "# Calculating win rates\n",
    "ss1_win_rate = ss1_stats['win'].mean()\n",
    "ss2_win_rate = ss2_stats['win'].mean()\n",
    "\n",
    "ss1_win_rate, ss2_win_rate\n"
   ]
  },
  {
   "cell_type": "code",
   "execution_count": 7,
   "metadata": {},
   "outputs": [
    {
     "name": "stdout",
     "output_type": "stream",
     "text": [
      "Collecting seaborn\n",
      "  Downloading seaborn-0.13.1-py3-none-any.whl.metadata (5.4 kB)\n",
      "Collecting matplotlib\n",
      "  Downloading matplotlib-3.8.2-cp312-cp312-manylinux_2_17_x86_64.manylinux2014_x86_64.whl.metadata (5.8 kB)\n",
      "Requirement already satisfied: numpy!=1.24.0,>=1.20 in /home/jiwoochris/anaconda3/envs/lol/lib/python3.12/site-packages (from seaborn) (1.26.3)\n",
      "Requirement already satisfied: pandas>=1.2 in /home/jiwoochris/anaconda3/envs/lol/lib/python3.12/site-packages (from seaborn) (2.1.4)\n",
      "Collecting contourpy>=1.0.1 (from matplotlib)\n",
      "  Downloading contourpy-1.2.0-cp312-cp312-manylinux_2_17_x86_64.manylinux2014_x86_64.whl.metadata (5.8 kB)\n",
      "Collecting cycler>=0.10 (from matplotlib)\n",
      "  Downloading cycler-0.12.1-py3-none-any.whl.metadata (3.8 kB)\n",
      "Collecting fonttools>=4.22.0 (from matplotlib)\n",
      "  Downloading fonttools-4.47.0-cp312-cp312-manylinux_2_5_x86_64.manylinux1_x86_64.manylinux_2_17_x86_64.manylinux2014_x86_64.whl.metadata (157 kB)\n",
      "\u001b[2K     \u001b[90m━━━━━━━━━━━━━━━━━━━━━━━━━━━━━━━━━━━━━━━\u001b[0m \u001b[32m157.2/157.2 kB\u001b[0m \u001b[31m3.8 MB/s\u001b[0m eta \u001b[36m0:00:00\u001b[0m00:01\u001b[0m\n",
      "\u001b[?25hCollecting kiwisolver>=1.3.1 (from matplotlib)\n",
      "  Downloading kiwisolver-1.4.5-cp312-cp312-manylinux_2_17_x86_64.manylinux2014_x86_64.whl.metadata (6.4 kB)\n",
      "Requirement already satisfied: packaging>=20.0 in /home/jiwoochris/anaconda3/envs/lol/lib/python3.12/site-packages (from matplotlib) (23.2)\n",
      "Collecting pillow>=8 (from matplotlib)\n",
      "  Downloading pillow-10.2.0-cp312-cp312-manylinux_2_28_x86_64.whl.metadata (9.7 kB)\n",
      "Collecting pyparsing>=2.3.1 (from matplotlib)\n",
      "  Downloading pyparsing-3.1.1-py3-none-any.whl.metadata (5.1 kB)\n",
      "Requirement already satisfied: python-dateutil>=2.7 in /home/jiwoochris/anaconda3/envs/lol/lib/python3.12/site-packages (from matplotlib) (2.8.2)\n",
      "Requirement already satisfied: pytz>=2020.1 in /home/jiwoochris/anaconda3/envs/lol/lib/python3.12/site-packages (from pandas>=1.2->seaborn) (2023.3.post1)\n",
      "Requirement already satisfied: tzdata>=2022.1 in /home/jiwoochris/anaconda3/envs/lol/lib/python3.12/site-packages (from pandas>=1.2->seaborn) (2023.4)\n",
      "Requirement already satisfied: six>=1.5 in /home/jiwoochris/anaconda3/envs/lol/lib/python3.12/site-packages (from python-dateutil>=2.7->matplotlib) (1.16.0)\n",
      "Downloading seaborn-0.13.1-py3-none-any.whl (294 kB)\n",
      "\u001b[2K   \u001b[90m━━━━━━━━━━━━━━━━━━━━━━━━━━━━━━━━━━━━━━━━\u001b[0m \u001b[32m294.8/294.8 kB\u001b[0m \u001b[31m4.8 MB/s\u001b[0m eta \u001b[36m0:00:00\u001b[0ma \u001b[36m0:00:01\u001b[0m\n",
      "\u001b[?25hDownloading matplotlib-3.8.2-cp312-cp312-manylinux_2_17_x86_64.manylinux2014_x86_64.whl (11.6 MB)\n",
      "\u001b[2K   \u001b[90m━━━━━━━━━━━━━━━━━━━━━━━━━━━━━━━━━━━━━━━━\u001b[0m \u001b[32m11.6/11.6 MB\u001b[0m \u001b[31m6.2 MB/s\u001b[0m eta \u001b[36m0:00:00\u001b[0m00:01\u001b[0m00:01\u001b[0m\n",
      "\u001b[?25hDownloading contourpy-1.2.0-cp312-cp312-manylinux_2_17_x86_64.manylinux2014_x86_64.whl (303 kB)\n",
      "\u001b[2K   \u001b[90m━━━━━━━━━━━━━━━━━━━━━━━━━━━━━━━━━━━━━━━━\u001b[0m \u001b[32m303.9/303.9 kB\u001b[0m \u001b[31m3.9 MB/s\u001b[0m eta \u001b[36m0:00:00\u001b[0m00:01\u001b[0m00:01\u001b[0m\n",
      "\u001b[?25hDownloading cycler-0.12.1-py3-none-any.whl (8.3 kB)\n",
      "Downloading fonttools-4.47.0-cp312-cp312-manylinux_2_5_x86_64.manylinux1_x86_64.manylinux_2_17_x86_64.manylinux2014_x86_64.whl (4.9 MB)\n",
      "\u001b[2K   \u001b[90m━━━━━━━━━━━━━━━━━━━━━━━━━━━━━━━━━━━━━━━━\u001b[0m \u001b[32m4.9/4.9 MB\u001b[0m \u001b[31m7.1 MB/s\u001b[0m eta \u001b[36m0:00:00\u001b[0m00:01\u001b[0m00:01\u001b[0m\n",
      "\u001b[?25hDownloading kiwisolver-1.4.5-cp312-cp312-manylinux_2_17_x86_64.manylinux2014_x86_64.whl (1.5 MB)\n",
      "\u001b[2K   \u001b[90m━━━━━━━━━━━━━━━━━━━━━━━━━━━━━━━━━━━━━━━━\u001b[0m \u001b[32m1.5/1.5 MB\u001b[0m \u001b[31m7.7 MB/s\u001b[0m eta \u001b[36m0:00:00\u001b[0m00:01\u001b[0m00:01\u001b[0m\n",
      "\u001b[?25hDownloading pillow-10.2.0-cp312-cp312-manylinux_2_28_x86_64.whl (4.5 MB)\n",
      "\u001b[2K   \u001b[90m━━━━━━━━━━━━━━━━━━━━━━━━━━━━━━━━━━━━━━━━\u001b[0m \u001b[32m4.5/4.5 MB\u001b[0m \u001b[31m7.2 MB/s\u001b[0m eta \u001b[36m0:00:00\u001b[0m00:01\u001b[0m00:01\u001b[0m\n",
      "\u001b[?25hDownloading pyparsing-3.1.1-py3-none-any.whl (103 kB)\n",
      "\u001b[2K   \u001b[90m━━━━━━━━━━━━━━━━━━━━━━━━━━━━━━━━━━━━━━━━\u001b[0m \u001b[32m103.1/103.1 kB\u001b[0m \u001b[31m2.9 MB/s\u001b[0m eta \u001b[36m0:00:00\u001b[0m\n",
      "\u001b[?25hInstalling collected packages: pyparsing, pillow, kiwisolver, fonttools, cycler, contourpy, matplotlib, seaborn\n",
      "Successfully installed contourpy-1.2.0 cycler-0.12.1 fonttools-4.47.0 kiwisolver-1.4.5 matplotlib-3.8.2 pillow-10.2.0 pyparsing-3.1.1 seaborn-0.13.1\n"
     ]
    },
    {
     "data": {
      "image/png": "[encoded data removed]",
      "text/plain": [
       "<Figure size 800x600 with 1 Axes>"
      ]
     },
     "metadata": {},
     "output_type": "display_data"
    }
   ],
   "source": [
    "!pip install seaborn matplotlib\n",
    "\n",
    "import seaborn as sns\n",
    "import matplotlib.pyplot as plt\n",
    "\n",
    "# Preparing data for visualization\n",
    "win_rates = pd.DataFrame({\n",
    "    \"Summoner Spell\": [\"ss1\", \"ss2\"],\n",
    "    \"Win Rate\": [ss1_win_rate, ss2_win_rate]\n",
    "})\n",
    "\n",
    "# Plotting the win rates using seaborn\n",
    "plt.figure(figsize=(8, 6))\n",
    "sns.barplot(x=\"Summoner Spell\", y=\"Win Rate\", data=win_rates)\n",
    "plt.title(\"Comparison of Win Rates for Summoner Spells ss1=4 and ss2=4\")\n",
    "plt.ylabel(\"Win Rate\")\n",
    "plt.ylim(0.49, 0.51)  # Setting limits to better visualize the small differences\n",
    "plt.show()"
   ]
  }
 ],
 "metadata": {
  "kernelspec": {
   "display_name": "Python 3",
   "language": "python",
   "name": "python3"
  },
  "language_info": {
   "codemirror_mode": {
    "name": "ipython",
    "version": 3
   },
   "file_extension": ".py",
   "mimetype": "text/x-python",
   "name": "python",
   "nbconvert_exporter": "python",
   "pygments_lexer": "ipython3",
   "version": "3.12.1"
  }
 },
 "nbformat": 4,
 "nbformat_minor": 2
}
