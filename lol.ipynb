{
 "cells": [
  {
   "cell_type": "markdown",
   "metadata": {},
   "source": [
    "## D 점멸 vs F 점멸\n",
    "D 점멸 vs F 점멸, 어떤게 더 좋은지 데이터 분석으로 알아보자.\n",
    "\n",
    "### 데이터셋 개요\n",
    "출처: Kaggle, \"League of Legends Ranked Matches\"\n",
    "링크: https://www.kaggle.com/datasets/paololol/league-of-legends-ranked-matches?select=participants.csv\n",
    "\n",
    "위 데이터를 통해 데이터 분석 연습하기"
   ]
  },
  {
   "cell_type": "code",
   "execution_count": 3,
   "metadata": {},
   "outputs": [
    {
     "name": "stdout",
     "output_type": "stream",
     "text": [
      "Requirement already satisfied: pandas in /home/jiwoochris/anaconda3/envs/lol/lib/python3.12/site-packages (2.1.4)\n",
      "Requirement already satisfied: numpy<2,>=1.26.0 in /home/jiwoochris/anaconda3/envs/lol/lib/python3.12/site-packages (from pandas) (1.26.3)\n",
      "Requirement already satisfied: python-dateutil>=2.8.2 in /home/jiwoochris/anaconda3/envs/lol/lib/python3.12/site-packages (from pandas) (2.8.2)\n",
      "Requirement already satisfied: pytz>=2020.1 in /home/jiwoochris/anaconda3/envs/lol/lib/python3.12/site-packages (from pandas) (2023.3.post1)\n",
      "Requirement already satisfied: tzdata>=2022.1 in /home/jiwoochris/anaconda3/envs/lol/lib/python3.12/site-packages (from pandas) (2023.4)\n",
      "Requirement already satisfied: six>=1.5 in /home/jiwoochris/anaconda3/envs/lol/lib/python3.12/site-packages (from python-dateutil>=2.8.2->pandas) (1.16.0)\n",
      "Requirement already satisfied: seaborn in /home/jiwoochris/anaconda3/envs/lol/lib/python3.12/site-packages (0.13.1)\n",
      "Requirement already satisfied: matplotlib in /home/jiwoochris/anaconda3/envs/lol/lib/python3.12/site-packages (3.8.2)\n",
      "Requirement already satisfied: numpy!=1.24.0,>=1.20 in /home/jiwoochris/anaconda3/envs/lol/lib/python3.12/site-packages (from seaborn) (1.26.3)\n",
      "Requirement already satisfied: pandas>=1.2 in /home/jiwoochris/anaconda3/envs/lol/lib/python3.12/site-packages (from seaborn) (2.1.4)\n",
      "Requirement already satisfied: contourpy>=1.0.1 in /home/jiwoochris/anaconda3/envs/lol/lib/python3.12/site-packages (from matplotlib) (1.2.0)\n",
      "Requirement already satisfied: cycler>=0.10 in /home/jiwoochris/anaconda3/envs/lol/lib/python3.12/site-packages (from matplotlib) (0.12.1)\n",
      "Requirement already satisfied: fonttools>=4.22.0 in /home/jiwoochris/anaconda3/envs/lol/lib/python3.12/site-packages (from matplotlib) (4.47.0)\n",
      "Requirement already satisfied: kiwisolver>=1.3.1 in /home/jiwoochris/anaconda3/envs/lol/lib/python3.12/site-packages (from matplotlib) (1.4.5)\n",
      "Requirement already satisfied: packaging>=20.0 in /home/jiwoochris/anaconda3/envs/lol/lib/python3.12/site-packages (from matplotlib) (23.2)\n",
      "Requirement already satisfied: pillow>=8 in /home/jiwoochris/anaconda3/envs/lol/lib/python3.12/site-packages (from matplotlib) (10.2.0)\n",
      "Requirement already satisfied: pyparsing>=2.3.1 in /home/jiwoochris/anaconda3/envs/lol/lib/python3.12/site-packages (from matplotlib) (3.1.1)\n",
      "Requirement already satisfied: python-dateutil>=2.7 in /home/jiwoochris/anaconda3/envs/lol/lib/python3.12/site-packages (from matplotlib) (2.8.2)\n",
      "Requirement already satisfied: pytz>=2020.1 in /home/jiwoochris/anaconda3/envs/lol/lib/python3.12/site-packages (from pandas>=1.2->seaborn) (2023.3.post1)\n",
      "Requirement already satisfied: tzdata>=2022.1 in /home/jiwoochris/anaconda3/envs/lol/lib/python3.12/site-packages (from pandas>=1.2->seaborn) (2023.4)\n",
      "Requirement already satisfied: six>=1.5 in /home/jiwoochris/anaconda3/envs/lol/lib/python3.12/site-packages (from python-dateutil>=2.7->matplotlib) (1.16.0)\n"
     ]
    }
   ],
   "source": [
    "# 필요한 라이브러리 설치\n",
    "!pip install pandas\n",
    "!pip install seaborn matplotlib"
   ]
  },
  {
   "cell_type": "markdown",
   "metadata": {},
   "source": [
    "먼저 롤 유저들의 정보를 나타내는 pariciapnts.csv 파일을 로드합니다."
   ]
  },
  {
   "cell_type": "code",
   "execution_count": 2,
   "metadata": {},
   "outputs": [
    {
     "data": {
      "text/html": [
       "<div>\n",
       "<style scoped>\n",
       "    .dataframe tbody tr th:only-of-type {\n",
       "        vertical-align: middle;\n",
       "    }\n",
       "\n",
       "    .dataframe tbody tr th {\n",
       "        vertical-align: top;\n",
       "    }\n",
       "\n",
       "    .dataframe thead th {\n",
       "        text-align: right;\n",
       "    }\n",
       "</style>\n",
       "<table border=\"1\" class=\"dataframe\">\n",
       "  <thead>\n",
       "    <tr style=\"text-align: right;\">\n",
       "      <th></th>\n",
       "      <th>id</th>\n",
       "      <th>matchid</th>\n",
       "      <th>player</th>\n",
       "      <th>championid</th>\n",
       "      <th>ss1</th>\n",
       "      <th>ss2</th>\n",
       "      <th>role</th>\n",
       "      <th>position</th>\n",
       "    </tr>\n",
       "  </thead>\n",
       "  <tbody>\n",
       "    <tr>\n",
       "      <th>0</th>\n",
       "      <td>9</td>\n",
       "      <td>10</td>\n",
       "      <td>1</td>\n",
       "      <td>19</td>\n",
       "      <td>4</td>\n",
       "      <td>11</td>\n",
       "      <td>NONE</td>\n",
       "      <td>JUNGLE</td>\n",
       "    </tr>\n",
       "    <tr>\n",
       "      <th>1</th>\n",
       "      <td>10</td>\n",
       "      <td>10</td>\n",
       "      <td>2</td>\n",
       "      <td>267</td>\n",
       "      <td>3</td>\n",
       "      <td>4</td>\n",
       "      <td>DUO_SUPPORT</td>\n",
       "      <td>BOT</td>\n",
       "    </tr>\n",
       "    <tr>\n",
       "      <th>2</th>\n",
       "      <td>11</td>\n",
       "      <td>10</td>\n",
       "      <td>3</td>\n",
       "      <td>119</td>\n",
       "      <td>7</td>\n",
       "      <td>4</td>\n",
       "      <td>DUO_CARRY</td>\n",
       "      <td>BOT</td>\n",
       "    </tr>\n",
       "    <tr>\n",
       "      <th>3</th>\n",
       "      <td>12</td>\n",
       "      <td>10</td>\n",
       "      <td>4</td>\n",
       "      <td>114</td>\n",
       "      <td>12</td>\n",
       "      <td>4</td>\n",
       "      <td>SOLO</td>\n",
       "      <td>TOP</td>\n",
       "    </tr>\n",
       "    <tr>\n",
       "      <th>4</th>\n",
       "      <td>13</td>\n",
       "      <td>10</td>\n",
       "      <td>5</td>\n",
       "      <td>112</td>\n",
       "      <td>4</td>\n",
       "      <td>3</td>\n",
       "      <td>SOLO</td>\n",
       "      <td>MID</td>\n",
       "    </tr>\n",
       "  </tbody>\n",
       "</table>\n",
       "</div>"
      ],
      "text/plain": [
       "   id  matchid  player  championid  ss1  ss2         role position\n",
       "0   9       10       1          19    4   11         NONE   JUNGLE\n",
       "1  10       10       2         267    3    4  DUO_SUPPORT      BOT\n",
       "2  11       10       3         119    7    4    DUO_CARRY      BOT\n",
       "3  12       10       4         114   12    4         SOLO      TOP\n",
       "4  13       10       5         112    4    3         SOLO      MID"
      ]
     },
     "execution_count": 2,
     "metadata": {},
     "output_type": "execute_result"
    }
   ],
   "source": [
    "import pandas as pd\n",
    "\n",
    "# CSV 파일에서 데이터 로드\n",
    "file_path = 'data/participants.csv'\n",
    "data = pd.read_csv(file_path)\n",
    "\n",
    "# 데이터셋의 처음 몇 행을 표시\n",
    "data.head()"
   ]
  },
  {
   "cell_type": "markdown",
   "metadata": {},
   "source": [
    "'ss1'는 D에 어떤 스펠을 쓰는지\n",
    "'ss2'는 F에 어떤 스펠을 쓰는지\n",
    "\n",
    "점멸(Flash)의 index는 4이다.\n",
    "\n",
    "따라서 총 유저들 중에 D점멸을 사용하는 비율, F점멸을 사용하는 비율을 계산해준다."
   ]
  },
  {
   "cell_type": "code",
   "execution_count": 4,
   "metadata": {},
   "outputs": [
    {
     "data": {
      "text/plain": [
       "(54.57356692758869, 42.617850990994924)"
      ]
     },
     "execution_count": 4,
     "metadata": {},
     "output_type": "execute_result"
    }
   ],
   "source": [
    "# 'ss1'과 'ss2' 칼럼에서 값이 4인 경우의 분포 분석\n",
    "\n",
    "# 'ss1'과 'ss2'에서 값이 4인 경우의 발생 횟수 계산\n",
    "ss1_count = (data['ss1'] == 4).sum()\n",
    "ss2_count = (data['ss2'] == 4).sum()\n",
    "\n",
    "# 전체 데이터 엔트리 수\n",
    "total_entries = len(data)\n",
    "\n",
    "# ss1과 ss2에서 값이 4인 비율(백분율) 계산\n",
    "ss1_distribution = (ss1_count / total_entries) * 100\n",
    "ss2_distribution = (ss2_count / total_entries) * 100\n",
    "\n",
    "ss1_distribution, ss2_distribution"
   ]
  },
  {
   "cell_type": "markdown",
   "metadata": {},
   "source": [
    "'stats1.csv'와 'stats2.csv'\n",
    "\n",
    "두 개의 데이터 파일을 로드\n",
    "\n",
    "각각의 게임을 나타냄."
   ]
  },
  {
   "cell_type": "code",
   "execution_count": 5,
   "metadata": {},
   "outputs": [
    {
     "name": "stderr",
     "output_type": "stream",
     "text": [
      "/tmp/ipykernel_45446/3977203653.py:7: DtypeWarning: Columns (52) have mixed types. Specify dtype option on import or set low_memory=False.\n",
      "  stats2 = pd.read_csv(file_path_stats2)\n"
     ]
    },
    {
     "data": {
      "text/plain": [
       "(   id  win  item1  item2  item3  item4  item5  item6  trinket  kills  ...  \\\n",
       " 0   9    0   3748   2003   3111   3053   1419   1042     3340      6  ...   \n",
       " 1  10    0   2301   3111   3190   3107      0      0     3364      0  ...   \n",
       " 2  11    0   1055   3072   3006   3031   3046   1036     3340      7  ...   \n",
       " 3  12    0   1029   3078   3156   1001   3053      0     3340      5  ...   \n",
       " 4  13    0   3020   1058   3198   3102   1052   1026     3340      2  ...   \n",
       " \n",
       "    neutralminionskilled  ownjunglekills  enemyjunglekills  totcctimedealt  \\\n",
       " 0                    69              42                27             610   \n",
       " 1                     1               1                 0             211   \n",
       " 2                     3               1                 2             182   \n",
       " 3                     6               6                 0             106   \n",
       " 4                     4               3                 1             159   \n",
       " \n",
       "    champlvl  pinksbought  wardsbought  wardsplaced  wardskilled  firstblood  \n",
       " 0        13            0            0           10            0           0  \n",
       " 1        14            1            0           17            3           0  \n",
       " 2        14            1            0           13            5           0  \n",
       " 3        15            0            0            3            0           0  \n",
       " 4        15            0            0           10            0           0  \n",
       " \n",
       " [5 rows x 56 columns],\n",
       "         id  win  item1  item2  item3  item4  item5  item6  trinket  kills  \\\n",
       " 0  1028382    0   1056   3001   1052   3020   1058   1026     3340      7   \n",
       " 1  1028383    0   1041   2003      0      0      0      0     3340      0   \n",
       " 2  1028384    0   1036   2010      0      0      0      0     3340      0   \n",
       " 3  1028385    0   1055   2010      0      0      0      0     3340      0   \n",
       " 4  1028386    0   2033      0      0      0      0      0     3340      0   \n",
       " \n",
       "    ...  neutralminionskilled  ownjunglekills  enemyjunglekills  \\\n",
       " 0  ...                     0               0                 0   \n",
       " 1  ...                    11              11                 0   \n",
       " 2  ...                     0               0                 0   \n",
       " 3  ...                     0               0                 0   \n",
       " 4  ...                     0               0                 0   \n",
       " \n",
       "    totcctimedealt  champlvl  pinksbought  wardsbought  wardsplaced  \\\n",
       " 0              50        12            0            0            6   \n",
       " 1             114         3            0            0            0   \n",
       " 2               0         1            0            0            0   \n",
       " 3               0         2            0            0            0   \n",
       " 4               0         3            0            0            0   \n",
       " \n",
       "    wardskilled  firstblood  \n",
       " 0            0           0  \n",
       " 1            0           0  \n",
       " 2            0           0  \n",
       " 3            0           0  \n",
       " 4            0           0  \n",
       " \n",
       " [5 rows x 56 columns])"
      ]
     },
     "execution_count": 5,
     "metadata": {},
     "output_type": "execute_result"
    }
   ],
   "source": [
    "# 추가 CSV 파일 로드를 위한 경로 설정\n",
    "file_path_stats1 = 'data/stats1.csv'\n",
    "file_path_stats2 = 'data/stats2.csv'\n",
    "\n",
    "# CSV 파일 로드\n",
    "stats1 = pd.read_csv(file_path_stats1)\n",
    "stats2 = pd.read_csv(file_path_stats2)\n",
    "\n",
    "# 각 데이터셋의 처음 몇 행을 표시하여 구조 이해\n",
    "stats1.head(), stats2.head()"
   ]
  },
  {
   "cell_type": "markdown",
   "metadata": {},
   "source": [
    "경기 결과 파일이 2개로 나뉘어져 있기 때문이 이를 하나로 병합"
   ]
  },
  {
   "cell_type": "code",
   "execution_count": 6,
   "metadata": {},
   "outputs": [
    {
     "data": {
      "text/plain": [
       "(   id  win  item1  item2  item3  item4  item5  item6  trinket  kills  ...  \\\n",
       " 0   9    0   3748   2003   3111   3053   1419   1042     3340      6  ...   \n",
       " 1  10    0   2301   3111   3190   3107      0      0     3364      0  ...   \n",
       " 2  11    0   1055   3072   3006   3031   3046   1036     3340      7  ...   \n",
       " 3  12    0   1029   3078   3156   1001   3053      0     3340      5  ...   \n",
       " 4  13    0   3020   1058   3198   3102   1052   1026     3340      2  ...   \n",
       " \n",
       "    neutralminionskilled  ownjunglekills  enemyjunglekills  totcctimedealt  \\\n",
       " 0                    69              42                27             610   \n",
       " 1                     1               1                 0             211   \n",
       " 2                     3               1                 2             182   \n",
       " 3                     6               6                 0             106   \n",
       " 4                     4               3                 1             159   \n",
       " \n",
       "    champlvl  pinksbought  wardsbought  wardsplaced  wardskilled  firstblood  \n",
       " 0        13            0            0           10            0           0  \n",
       " 1        14            1            0           17            3           0  \n",
       " 2        14            1            0           13            5           0  \n",
       " 3        15            0            0            3            0           0  \n",
       " 4        15            0            0           10            0           0  \n",
       " \n",
       " [5 rows x 56 columns],\n",
       "               id  win  item1  item2  item3  item4  item5  item6  trinket  \\\n",
       " 1834512  1865600    0   3035   1053   3031   1304   3102   3046     3363   \n",
       " 1834513  1865601    0   3089   3285   3157   1314   1052      0     3340   \n",
       " 1834514  1865602    0   1329   3190   3069   3025   1011   3082     3340   \n",
       " 1834515  1865603    0   3074   3071   3707   1033   1036      0     3340   \n",
       " 1834516  1865604    0   3155   3074   3153   3110   1319   1037     3340   \n",
       " \n",
       "          kills  ...  neutralminionskilled  ownjunglekills  enemyjunglekills  \\\n",
       " 1834512     11  ...                    27              20                 7   \n",
       " 1834513     11  ...                     3               3                 0   \n",
       " 1834514      4  ...                     0               0                 0   \n",
       " 1834515      2  ...                    47              40                 7   \n",
       " 1834516      7  ...                     5               4                 1   \n",
       " \n",
       "          totcctimedealt  champlvl  pinksbought  wardsbought  wardsplaced  \\\n",
       " 1834512             127        18            3           \\N           13   \n",
       " 1834513             128        18            0           \\N           13   \n",
       " 1834514             304        17            0           \\N            5   \n",
       " 1834515             101        15            0           \\N            8   \n",
       " 1834516             654        18            0           \\N           12   \n",
       " \n",
       "          wardskilled  firstblood  \n",
       " 1834512            1           0  \n",
       " 1834513            0           0  \n",
       " 1834514            0           0  \n",
       " 1834515            1           0  \n",
       " 1834516            1           0  \n",
       " \n",
       " [5 rows x 56 columns])"
      ]
     },
     "execution_count": 6,
     "metadata": {},
     "output_type": "execute_result"
    }
   ],
   "source": [
    "# 두 파일이 동일한 칼럼을 가지고 있으므로, 단순히 이어붙임으로써 병합\n",
    "merged_data = pd.concat([stats1, stats2], ignore_index=True)\n",
    "\n",
    "# 병합된 데이터셋의 처음과 끝 몇 행을 표시하여 병합 확인\n",
    "merged_data.head(), merged_data.tail()"
   ]
  },
  {
   "cell_type": "markdown",
   "metadata": {},
   "source": [
    "### 승률을 계산"
   ]
  },
  {
   "cell_type": "code",
   "execution_count": 7,
   "metadata": {},
   "outputs": [
    {
     "data": {
      "text/plain": [
       "(0.5003111387678905, 0.4996725639267771)"
      ]
     },
     "execution_count": 7,
     "metadata": {},
     "output_type": "execute_result"
    }
   ],
   "source": [
    "# 'ss1'이 4인 플레이어와 'ss2'가 4인 플레이어 필터링\n",
    "ss1_players = data[data['ss1'] == 4]\n",
    "ss2_players = data[data['ss2'] == 4]\n",
    "\n",
    "# 필터링된 데이터를 승/패 기록이 포함된 통계 데이터와 병합\n",
    "ss1_stats = pd.merge(ss1_players, merged_data[['id', 'win']], on='id')\n",
    "ss2_stats = pd.merge(ss2_players, merged_data[['id', 'win']], on='id')\n",
    "\n",
    "# 승률 계산\n",
    "ss1_win_rate = ss1_stats['win'].mean()  # D 점멸\n",
    "ss2_win_rate = ss2_stats['win'].mean()  # F 점멸\n",
    "\n",
    "ss1_win_rate, ss2_win_rate"
   ]
  },
  {
   "cell_type": "markdown",
   "metadata": {},
   "source": [
    "### 데이터 시각화"
   ]
  },
  {
   "cell_type": "code",
   "execution_count": 12,
   "metadata": {},
   "outputs": [
    {
     "data": {
      "image/png": "[encoded data removed]",
      "text/plain": [
       "<Figure size 800x600 with 1 Axes>"
      ]
     },
     "metadata": {},
     "output_type": "display_data"
    }
   ],
   "source": [
    "import seaborn as sns\n",
    "import matplotlib.pyplot as plt\n",
    "\n",
    "# 시각화를 위한 데이터 준비\n",
    "win_rates = pd.DataFrame({\n",
    "    \"Summoner Spell\": [\"ss1 (D Flash)\", \"ss2 (F Flash)\"],\n",
    "    \"Win Rate\": [ss1_win_rate, ss2_win_rate]\n",
    "})\n",
    "\n",
    "# Seaborn을 사용하여 승률 그래프 그리기\n",
    "plt.figure(figsize=(8, 6))\n",
    "sns.barplot(x=\"Summoner Spell\", y=\"Win Rate\", data=win_rates)\n",
    "plt.title(\"Comparison of Win Rates for Summoner Spells ss1=4(D Flash) and ss2=4(F Flash)\")\n",
    "plt.ylabel(\"Win Rate\")\n",
    "plt.ylim(0.49, 0.51)  # 작은 차이를 더 잘 시각화하기 위해 범위 설정\n",
    "plt.show()"
   ]
  }
 ],
 "metadata": {
  "kernelspec": {
   "display_name": "Python 3",
   "language": "python",
   "name": "python3"
  },
  "language_info": {
   "codemirror_mode": {
    "name": "ipython",
    "version": 3
   },
   "file_extension": ".py",
   "mimetype": "text/x-python",
   "name": "python",
   "nbconvert_exporter": "python",
   "pygments_lexer": "ipython3",
   "version": "3.12.1"
  }
 },
 "nbformat": 4,
 "nbformat_minor": 2
}
