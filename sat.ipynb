{
  "nbformat": 4,
  "nbformat_minor": 0,
  "metadata": {
    "colab": {
      "provenance": [],
      "include_colab_link": true
    },
    "kernelspec": {
      "name": "python3",
      "display_name": "Python 3"
    },
    "language_info": {
      "name": "python"
    }
  },
  "cells": [
    {
      "cell_type": "markdown",
      "metadata": {
        "id": "view-in-github",
        "colab_type": "text"
      },
      "source": [
        "<a href=\"https://colab.research.google.com/github/jiwoochris/toys/blob/main/sat.ipynb\" target=\"_parent\"><img src=\"https://colab.research.google.com/assets/colab-badge.svg\" alt=\"Open In Colab\"/></a>"
      ]
    },
    {
      "cell_type": "markdown",
      "source": [
        "# 한국 교육과정 평가원 대학 수학 능력 시험 표준점수-도수분포 데이터 분석 & 시각화"
      ],
      "metadata": {
        "id": "50wzAJwoIUo_"
      }
    },
    {
      "cell_type": "markdown",
      "source": [
        "데이터셋 : https://www.data.go.kr/data/15080195/fileData.do\n",
        "\n",
        "위 데이터를 다운 받아서 2022년도 수능 성적을 분석해봅시다."
      ],
      "metadata": {
        "id": "iN4nxg-wIXnS"
      }
    },
    {
      "cell_type": "code",
      "source": [
        "import pandas as pd\n",
        "import gdown\n",
        "\n",
        "# 파일의 공유 링크에서 파일 ID 추출\n",
        "file_id = '1IPsaawJuUC4aSjwcmwzQhmPrRqEM90ZG'\n",
        "url = f'https://drive.google.com/uc?id={file_id}'\n",
        "\n",
        "# gdown을 사용하여 파일 다운로드\n",
        "gdown.download(url, 'local_filename.csv', quiet=False)"
      ],
      "metadata": {
        "id": "_W0CqesWLcA9"
      },
      "execution_count": null,
      "outputs": []
    },
    {
      "cell_type": "code",
      "source": [
        "\n",
        "# 다운로드한 파일로부터 데이터 로드\n",
        "data = pd.read_csv('local_filename.csv', encoding='CP949')# 인코딩 옵션으로 'CP949' 사용\n",
        "\n",
        "# 데이터셋의 처음 몇 행을 표시\n",
        "print(data.head())"
      ],
      "metadata": {
        "id": "o7MXVeHjIaC0"
      },
      "execution_count": null,
      "outputs": []
    },
    {
      "cell_type": "markdown",
      "source": [
        "**데이터 시각화**"
      ],
      "metadata": {
        "id": "05w8Eev-Iu-3"
      }
    },
    {
      "cell_type": "markdown",
      "source": [
        "과목별 남녀 표준 점수 분포를 확인한다."
      ],
      "metadata": {
        "id": "llF2PrbDIyxt"
      }
    },
    {
      "cell_type": "code",
      "source": [
        "import matplotlib.pyplot as plt\n",
        "import seaborn as sns\n",
        "\n",
        "# 칼럼 이름을 영어로 변경\n",
        "data.rename(columns={'영역': 'Subject', '유형': 'Type', '표준점수': 'Standard Score', '남자': 'Male', '여자': 'Female'}, inplace=True)\n",
        "\n",
        "# 수학 영역 데이터 필터링\n",
        "math_data = data[data['Type'] == '정치와 법']\n",
        "\n",
        "# 그래프를 그리기 쉽게 데이터를 변형\n",
        "math_melted = math_data.melt(id_vars=['Standard Score'], value_vars=['Male', 'Female'], var_name='Gender', value_name='Count')\n",
        "\n",
        "# 수학 점수에 대한 남녀 학생들의 비교를 선 그래프로 시각화\n",
        "plt.figure(figsize=(12, 6))\n",
        "sns.lineplot(data=math_melted, x='Standard Score', y='Count', hue='Gender', marker='o')\n",
        "plt.title('Comparison of Mathematics Scores between Male and Female Students')\n",
        "plt.xlabel('Standard Score')\n",
        "plt.ylabel('Count')\n",
        "plt.show()"
      ],
      "metadata": {
        "id": "ul-H11e6I00M"
      },
      "execution_count": null,
      "outputs": []
    }
  ]
}